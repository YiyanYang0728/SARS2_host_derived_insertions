{
 "cells": [
  {
   "cell_type": "code",
   "execution_count": 16,
   "metadata": {
    "vscode": {
     "languageId": "r"
    }
   },
   "outputs": [],
   "source": [
    "library(tidyverse)\n",
    "library(patchwork)\n",
    "library(ggpubr)\n",
    "library(ggtext)"
   ]
  },
  {
   "cell_type": "code",
   "execution_count": 17,
   "metadata": {
    "vscode": {
     "languageId": "r"
    }
   },
   "outputs": [],
   "source": [
    "get_boxplot <- function(host, cell_type, str){\n",
    "        if(host==\"human\"){\n",
    "            ref = \"Homo_sapiens\"\n",
    "        }else{\n",
    "            ref = \"Chlorocebus_sabaeus\"\n",
    "        }\n",
    "\n",
    "        infile = paste0(ref, \"_chimeric_read_host_genes.tsv\")\n",
    "        df <- read_tsv(infile)\n",
    "        df <- df %>% filter(Type1==\"cdna\") %>% separate(Gene, c(\"Gene\", \"Version\"))\n",
    "\n",
    "        cell_expr <- read_tsv(paste0(cell_type, \"_expr.tsv\"))\n",
    "\n",
    "        if(cell_type==\"Vero_cell\"){\n",
    "            data <- df\n",
    "            cell_expr <- cell_expr %>% mutate(log2expr_1=log2(RPKM_1), log2expr_2=log2(RPKM_2), log2expr_3=log2(RPKM_3)) #%>% mutate(Expr=rowMeans(select(., SARSCOV2_1, SARSCOV2_2, SARSCOV2_3)))\n",
    "            join_dt <- data %>% left_join(cell_expr, by=c(\"Gene\"=\"gene_id\")) %>% mutate_each(funs(replace(., which(is.na(.)), 0)))\n",
    "            realExprData1 <- join_dt$log2expr_1\n",
    "            realExprData2 <- join_dt$log2expr_2\n",
    "            realExprData3 <- join_dt$log2expr_3\n",
    "            s1Expr<-cell_expr$log2expr_1\n",
    "            s2Expr<-cell_expr$log2expr_2\n",
    "            s3Expr<-cell_expr$log2expr_3\n",
    "            sel_row = c(1,10,15)\n",
    "            pal <- c(\"#DCEEF3\", \"#005CAB\", \"#DCEEF3\", \"#005CAB\", \"#DCEEF3\", \"#005CAB\")\n",
    "            plot_dt <- data.frame(Expression_level=c(s1Expr, realExprData1, s2Expr, realExprData2, s3Expr, realExprData3), \n",
    "                            Type=c(rep(\"Background gene\\nGSM4916368\", length(s1Expr)), \n",
    "                                   rep(\"Gene observed in\\nchimeric read\\nGSM4916368\", length(realExprData1)),\n",
    "                                   rep(\"Background gene\\nGSM4916369\", length(s2Expr)), \n",
    "                                   rep(\"HGene observed in\\nchimeric read\\nGSM4916369\", length(realExprData2)),\n",
    "                                   rep(\"Background gene\\nGSM4916370\", length(s3Expr)), \n",
    "                                   rep(\"Gene observed in\\nchimeric read\\nGSM4916370\", length(realExprData3)))\n",
    "                            )\n",
    "\n",
    "        }\n",
    "\n",
    "        if(cell_type==\"Caco_cell\"){\n",
    "            data <- df %>% filter(Cellline==\"Caco_cell\")\n",
    "            cell_expr <- cell_expr %>% separate(gene_id, c(\"gene_id\", \"version\")) %>% mutate(log2expr_1=log2(RPKM_1), log2expr_2=log2(RPKM_2))\n",
    "            join_dt <- data %>% left_join(cell_expr, by=c(\"Gene\"=\"gene_id\")) %>% mutate_each(funs(replace(., which(is.na(.)), 0)))\n",
    "            realExprData1 <- join_dt$log2expr_1\n",
    "            realExprData2 <- join_dt$log2expr_2\n",
    "            s1Expr<-cell_expr$log2expr_1\n",
    "            s2Expr<-cell_expr$log2expr_2\n",
    "            sel_row = c(1,6)\n",
    "            pal <- c(\"#DCEEF3\", \"#005CAB\", \"#DCEEF3\", \"#005CAB\")\n",
    "            plot_dt <- data.frame(Expression_level=c(s1Expr, realExprData1, s2Expr, realExprData2), \n",
    "                            Type=c(rep(\"Background gene\\nGSM4477888\", length(s1Expr)), \n",
    "                                   rep(\"Gene observed in\\nchimeric read\\nGSM4477888\", length(realExprData1)),\n",
    "                                   rep(\"Background gene\\nGSM4477889\", length(s2Expr)), \n",
    "                                   rep(\"Gene observed in\\nchimeric read\\nGSM4477889\", length(realExprData2)))\n",
    "                            )\n",
    "        }\n",
    "\n",
    "        if(cell_type==\"Calu_cell\"){\n",
    "            data <- df %>% filter(Cellline==\"Calu_cell\")\n",
    "            cell_expr <- cell_expr %>% separate(gene_id, c(\"gene_id\", \"version\")) %>% mutate(log2expr_1=log2(RPKM_1), log2expr_2=log2(RPKM_2))\n",
    "            join_dt <- data %>% left_join(cell_expr, by=c(\"Gene\"=\"gene_id\")) %>% mutate_each(funs(replace(., which(is.na(.)), 0)))\n",
    "            realExprData1 <- join_dt$log2expr_1\n",
    "            realExprData2 <- join_dt$log2expr_2\n",
    "            s1Expr<-cell_expr$log2expr_1\n",
    "            s2Expr<-cell_expr$log2expr_2\n",
    "            sel_row = c(1,6)\n",
    "            pal <- c(\"#DCEEF3\", \"#005CAB\", \"#DCEEF3\", \"#005CAB\")\n",
    "            plot_dt <- data.frame(Expression_level=c(s1Expr, realExprData1, s2Expr, realExprData2), \n",
    "                            Type=c(rep(\"Background gene\\nGSM4477962\", length(s1Expr)), \n",
    "                                   rep(\"Gene observed in\\nchimeric read\\nGSM4477962\", length(realExprData1)),\n",
    "                                   rep(\"Background gene\\nGSM4477963\", length(s2Expr)), \n",
    "                                   rep(\"Gene observed in\\nchimeric read\\nGSM4477963\", length(realExprData2)))\n",
    "                            )\n",
    "        }\n",
    "\n",
    "        stat.test <- compare_means(\n",
    "        Expression_level ~ Type, data = plot_dt,\n",
    "        method = \"wilcox.test\", alternative = \"greater\") %>% slice(., sel_row)\n",
    "\n",
    "        p <- ggboxplot(plot_dt, x=\"Type\", y=\"Expression_level\", fill=\"Type\", palette = pal, legend = \"none\") +\n",
    "                    stat_pvalue_manual(stat.test, y.position=17, step.increase=0.06, label=\"{p.signif}\") +\n",
    "                    labs(title=str, y = \"Gene expression level log2(RPKM) in sample\", x=\"\") +\n",
    "                    theme(plot.title = ggtext::element_markdown(), text = element_text(size = 15), axis.text.x=element_text(angle=65, hjust=1))\n",
    "        return(p)\n",
    "}"
   ]
  },
  {
   "cell_type": "code",
   "execution_count": 20,
   "metadata": {
    "vscode": {
     "languageId": "r"
    }
   },
   "outputs": [
    {
     "name": "stderr",
     "output_type": "stream",
     "text": [
      "\u001b[1mRows: \u001b[22m\u001b[34m342\u001b[39m \u001b[1mColumns: \u001b[22m\u001b[34m7\u001b[39m\n",
      "\n",
      "\u001b[36m──\u001b[39m \u001b[1mColumn specification\u001b[22m \u001b[36m────────────────────────────────────────────────────────\u001b[39m\n",
      "\u001b[1mDelimiter:\u001b[22m \"\\t\"\n",
      "\u001b[31mchr\u001b[39m (7): Transcript, Gene, Type1, Type2, GeneSymbol, Sample, Cellline\n",
      "\n",
      "\n",
      "\u001b[36mℹ\u001b[39m Use `spec()` to retrieve the full column specification for this data.\n",
      "\u001b[36mℹ\u001b[39m Specify the column types or set `show_col_types = FALSE` to quiet this message.\n",
      "\n",
      "\u001b[1mRows: \u001b[22m\u001b[34m45057\u001b[39m \u001b[1mColumns: \u001b[22m\u001b[34m8\u001b[39m\n",
      "\n",
      "\u001b[36m──\u001b[39m \u001b[1mColumn specification\u001b[22m \u001b[36m────────────────────────────────────────────────────────\u001b[39m\n",
      "\u001b[1mDelimiter:\u001b[22m \"\\t\"\n",
      "\u001b[31mchr\u001b[39m (2): gene_id, gene_name\n",
      "\u001b[32mdbl\u001b[39m (6): length, Caco2_polyA-S2-24h-A, Caco2_polyA-S2-24h-B, RPKM_1, RPKM_2,...\n",
      "\n",
      "\n",
      "\u001b[36mℹ\u001b[39m Use `spec()` to retrieve the full column specification for this data.\n",
      "\u001b[36mℹ\u001b[39m Specify the column types or set `show_col_types = FALSE` to quiet this message.\n",
      "\n",
      "\u001b[1mRows: \u001b[22m\u001b[34m342\u001b[39m \u001b[1mColumns: \u001b[22m\u001b[34m7\u001b[39m\n",
      "\n",
      "\u001b[36m──\u001b[39m \u001b[1mColumn specification\u001b[22m \u001b[36m────────────────────────────────────────────────────────\u001b[39m\n",
      "\u001b[1mDelimiter:\u001b[22m \"\\t\"\n",
      "\u001b[31mchr\u001b[39m (7): Transcript, Gene, Type1, Type2, GeneSymbol, Sample, Cellline\n",
      "\n",
      "\n",
      "\u001b[36mℹ\u001b[39m Use `spec()` to retrieve the full column specification for this data.\n",
      "\u001b[36mℹ\u001b[39m Specify the column types or set `show_col_types = FALSE` to quiet this message.\n",
      "\n",
      "\u001b[1mRows: \u001b[22m\u001b[34m45057\u001b[39m \u001b[1mColumns: \u001b[22m\u001b[34m8\u001b[39m\n",
      "\n",
      "\u001b[36m──\u001b[39m \u001b[1mColumn specification\u001b[22m \u001b[36m────────────────────────────────────────────────────────\u001b[39m\n",
      "\u001b[1mDelimiter:\u001b[22m \"\\t\"\n",
      "\u001b[31mchr\u001b[39m (2): gene_id, gene_name\n",
      "\u001b[32mdbl\u001b[39m (6): length, Calu3_polyA_series1-S2-24h-A, Calu3_polyA_series1-S2-24h-B,...\n",
      "\n",
      "\n",
      "\u001b[36mℹ\u001b[39m Use `spec()` to retrieve the full column specification for this data.\n",
      "\u001b[36mℹ\u001b[39m Specify the column types or set `show_col_types = FALSE` to quiet this message.\n",
      "\n",
      "\u001b[1mRows: \u001b[22m\u001b[34m1110\u001b[39m \u001b[1mColumns: \u001b[22m\u001b[34m7\u001b[39m\n",
      "\n",
      "\u001b[36m──\u001b[39m \u001b[1mColumn specification\u001b[22m \u001b[36m────────────────────────────────────────────────────────\u001b[39m\n",
      "\u001b[1mDelimiter:\u001b[22m \"\\t\"\n",
      "\u001b[31mchr\u001b[39m (7): Transcript, Gene, Type1, Type2, GeneSymbol, Sample, Cellline\n",
      "\n",
      "\n",
      "\u001b[36mℹ\u001b[39m Use `spec()` to retrieve the full column specification for this data.\n",
      "\u001b[36mℹ\u001b[39m Specify the column types or set `show_col_types = FALSE` to quiet this message.\n",
      "\n",
      "\u001b[1mRows: \u001b[22m\u001b[34m13730\u001b[39m \u001b[1mColumns: \u001b[22m\u001b[34m10\u001b[39m\n",
      "\n",
      "\u001b[36m──\u001b[39m \u001b[1mColumn specification\u001b[22m \u001b[36m────────────────────────────────────────────────────────\u001b[39m\n",
      "\u001b[1mDelimiter:\u001b[22m \"\\t\"\n",
      "\u001b[31mchr\u001b[39m (2): gene_id, gene_name\n",
      "\u001b[32mdbl\u001b[39m (8): length, SARSCOV2_1, SARSCOV2_2, SARSCOV2_3, RPKM_1, RPKM_2, RPKM_3,...\n",
      "\n",
      "\n",
      "\u001b[36mℹ\u001b[39m Use `spec()` to retrieve the full column specification for this data.\n",
      "\u001b[36mℹ\u001b[39m Specify the column types or set `show_col_types = FALSE` to quiet this message.\n",
      "\n",
      "Warning message:\n",
      "“Removed 41609 rows containing non-finite values (stat_boxplot).”\n",
      "Warning message:\n",
      "“Removed 45106 rows containing non-finite values (stat_boxplot).”\n",
      "Warning message:\n",
      "“Removed 4002 rows containing non-finite values (stat_boxplot).”\n"
     ]
    },
    {
     "data": {
      "text/html": [
       "<strong>png:</strong> 2"
      ],
      "text/latex": [
       "\\textbf{png:} 2"
      ],
      "text/markdown": [
       "**png:** 2"
      ],
      "text/plain": [
       "png \n",
       "  2 "
      ]
     },
     "metadata": {},
     "output_type": "display_data"
    }
   ],
   "source": [
    "options(repr.plot.width=22, repr.plot.height=12)\n",
    "p1 <- get_boxplot(\"human\", \"Caco_cell\", \"Homo sapiens Caco-2 cell line\")\n",
    "p2 <- get_boxplot(\"human\", \"Calu_cell\", \"Homo sapiens Calu-3 cell line\")\n",
    "p3 <- get_boxplot(\"monkey\", \"Vero_cell\", \"Chlorocebus sabaeus Vero-6 cell line\")\n",
    "\n",
    "pdf(\"Figure2.pdf\", family=\"ArialMT\", width=22, height=12)\n",
    "p1 + p2 + p3 + plot_layout(widths = c(2, 2, 3))\n",
    "dev.off()"
   ]
  }
 ],
 "metadata": {
  "kernelspec": {
   "display_name": "R",
   "language": "R",
   "name": "ir"
  },
  "language_info": {
   "codemirror_mode": "r",
   "file_extension": ".r",
   "mimetype": "text/x-r-source",
   "name": "R",
   "pygments_lexer": "r",
   "version": "4.0.2"
  },
  "orig_nbformat": 4
 },
 "nbformat": 4,
 "nbformat_minor": 2
}
