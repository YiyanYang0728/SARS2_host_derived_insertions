{
 "cells": [
  {
   "cell_type": "code",
   "execution_count": 2,
   "metadata": {
    "vscode": {
     "languageId": "r"
    }
   },
   "outputs": [
    {
     "name": "stderr",
     "output_type": "stream",
     "text": [
      "── \u001b[1mAttaching packages\u001b[22m ─────────────────────────────────────── tidyverse 1.3.1 ──\n",
      "\n",
      "\u001b[32m✔\u001b[39m \u001b[34mggplot2\u001b[39m 3.3.5     \u001b[32m✔\u001b[39m \u001b[34mpurrr  \u001b[39m 0.3.4\n",
      "\u001b[32m✔\u001b[39m \u001b[34mtibble \u001b[39m 3.1.6     \u001b[32m✔\u001b[39m \u001b[34mdplyr  \u001b[39m 1.0.7\n",
      "\u001b[32m✔\u001b[39m \u001b[34mtidyr  \u001b[39m 1.1.4     \u001b[32m✔\u001b[39m \u001b[34mstringr\u001b[39m 1.4.0\n",
      "\u001b[32m✔\u001b[39m \u001b[34mreadr  \u001b[39m 2.1.1     \u001b[32m✔\u001b[39m \u001b[34mforcats\u001b[39m 0.5.1\n",
      "\n",
      "Warning message:\n",
      "“package ‘forcats’ was built under R version 4.0.3”\n",
      "── \u001b[1mConflicts\u001b[22m ────────────────────────────────────────── tidyverse_conflicts() ──\n",
      "\u001b[31m✖\u001b[39m \u001b[34mdplyr\u001b[39m::\u001b[32mfilter()\u001b[39m masks \u001b[34mstats\u001b[39m::filter()\n",
      "\u001b[31m✖\u001b[39m \u001b[34mdplyr\u001b[39m::\u001b[32mlag()\u001b[39m    masks \u001b[34mstats\u001b[39m::lag()\n",
      "\n",
      "\n",
      "Attaching package: ‘reshape2’\n",
      "\n",
      "\n",
      "The following object is masked from ‘package:tidyr’:\n",
      "\n",
      "    smiths\n",
      "\n",
      "\n"
     ]
    }
   ],
   "source": [
    "library(tidyverse)\n",
    "library(reshape2)\n",
    "library(patchwork)"
   ]
  },
  {
   "cell_type": "code",
   "execution_count": 3,
   "metadata": {
    "vscode": {
     "languageId": "r"
    }
   },
   "outputs": [],
   "source": [
    "setwd(\"/data/yangy34/projects/SARS2_host_derived_insertions/Figure1\")"
   ]
  },
  {
   "cell_type": "code",
   "execution_count": 7,
   "metadata": {
    "vscode": {
     "languageId": "r"
    }
   },
   "outputs": [],
   "source": [
    "##########################################\n",
    "######### Figure 1 right part ############\n",
    "##########################################\n",
    "\n",
    "bg_struct_annot<-read.table(\"background.RNA_struct.annot.bed\", header=F, sep =\"\\t\")\n",
    "\n",
    "countStems <- function(Insertions_All){\n",
    "    count <- 0\n",
    "    for(i in Insertions_All){\n",
    "        cur_pos = bg_struct_annot %>% filter(V2==i)\n",
    "        if((cur_pos$V4 == \"S\") | (cur_pos$V4 == \"S,S\")){\n",
    "          count <- count + 1\n",
    "        }\n",
    "    }\n",
    "    return(count)\n",
    "}\n",
    "\n",
    "plotStemTest <- function(host, mode){\n",
    "    if(host==\"human\"){\n",
    "        ref = \"Homo_sapiens\"\n",
    "        x_lowlim = 30\n",
    "        x_uplim = 100\n",
    "    }else{\n",
    "        ref = \"Chlorocebus_sabaeus\"\n",
    "        x_lowlim = 140\n",
    "        x_uplim = 400\n",
    "    }\n",
    "\n",
    "    infile=paste0(host,\".chimeric_junction.RNA_struct.annot.bed\")\n",
    "    dt = read.table(infile, col.names=c(\"Ref\", \"Start\", \"End\", \"JuncPattern\", \"Struct\"))\n",
    "    dt <- dt %>% separate(JuncPattern, c(\"JunctionID\", \"Pattern\"), sep=\"[.]\")\n",
    "\n",
    "    if(mode==\"sh\"){\n",
    "        target_pattern = \"sh\"\n",
    "        min_val=1\n",
    "        max_val=29902-50\n",
    "    }else{\n",
    "        target_pattern = \"hs\"\n",
    "        min_val=51\n",
    "        max_val=29902\n",
    "    }\n",
    "    dt_1 <- dt %>% filter(Pattern==target_pattern)\n",
    "    Insertions_All <- dt_1[,2]\n",
    "\n",
    "    #Real data in Stems\n",
    "    StemsRealData<-countStems(Insertions_All)\n",
    "    SimulationStems<-vector()\n",
    "    for (j in seq(1, 1000)){\n",
    "    InsPos<-floor(runif(length(Insertions_All), min = min_val, max = max_val))\n",
    "    SimulationStems<-c(SimulationStems, countStems(InsPos))\n",
    "    }\n",
    "\n",
    "    #p-value\n",
    "    pvalueStems <-length(SimulationStems[SimulationStems < StemsRealData])/1000\n",
    "\n",
    "    #plot\n",
    "    InsertionsInStemsPlot<-ggplot()+\n",
    "    geom_histogram(aes(SimulationStems,\n",
    "                    after_stat(count*100/sum(count))),\n",
    "                    fill = \"#525252\",\n",
    "                    binwidth = 1, alpha =0.5)+\n",
    "    geom_vline(xintercept = StemsRealData, color = \"#ed1c24\", size=3 )+\n",
    "    scale_x_continuous(expand = c(1, 1), name =\"Number of junction sites in Stems\")+\n",
    "    scale_y_continuous(expand = c(0, 0.1), name = \"Percentage (%)\")+\n",
    "    theme_classic()+\n",
    "    theme(axis.text = element_text(size = 15),\n",
    "          axis.title = element_text(size = 15),\n",
    "          plot.margin=unit(c(0.3,0.2,0.3,0.2), \"cm\")) +\n",
    "    ggtitle(paste(host,\"_\",mode,\"_\", pvalueStems, StemsRealData))\n",
    "    InsertionsInStemsPlot\n",
    "}\n",
    "\n",
    "p1 <- plotStemTest(\"human\", \"hs\")\n",
    "p2 <- plotStemTest(\"human\", \"sh\")\n",
    "p3 <- plotStemTest(\"monkey\", \"hs\")\n",
    "p4 <- plotStemTest(\"monkey\", \"sh\")"
   ]
  },
  {
   "cell_type": "code",
   "execution_count": 6,
   "metadata": {
    "vscode": {
     "languageId": "r"
    }
   },
   "outputs": [
    {
     "data": {
      "image/png": "[encoded data removed]",
      "text/plain": [
       "plot without title"
      ]
     },
     "metadata": {
      "image/png": {
       "height": 420,
       "width": 420
      }
     },
     "output_type": "display_data"
    }
   ],
   "source": [
    "p1"
   ]
  },
  {
   "cell_type": "code",
   "execution_count": null,
   "metadata": {
    "vscode": {
     "languageId": "r"
    }
   },
   "outputs": [],
   "source": [
    "pdf(\"Figure_1_right_part.pdf\"), width=15, height=48)\n",
    "p1 / p2 / p3 / p4\n",
    "dev.off()"
   ]
  }
 ],
 "metadata": {
  "kernelspec": {
   "display_name": "R",
   "language": "R",
   "name": "ir"
  },
  "language_info": {
   "codemirror_mode": "r",
   "file_extension": ".r",
   "mimetype": "text/x-r-source",
   "name": "R",
   "pygments_lexer": "r",
   "version": "4.0.2"
  },
  "orig_nbformat": 4
 },
 "nbformat": 4,
 "nbformat_minor": 2
}
