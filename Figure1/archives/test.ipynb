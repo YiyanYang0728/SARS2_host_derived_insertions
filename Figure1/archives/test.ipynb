{
 "cells": [
  {
   "cell_type": "code",
   "execution_count": 10,
   "metadata": {
    "vscode": {
     "languageId": "r"
    }
   },
   "outputs": [],
   "source": [
    "library(tidyverse)\n",
    "library(reshape2)\n",
    "library(patchwork)"
   ]
  },
  {
   "cell_type": "code",
   "execution_count": 11,
   "metadata": {
    "vscode": {
     "languageId": "r"
    }
   },
   "outputs": [],
   "source": [
    "setwd(\"/data/yangy34/projects/SARS2_host_derived_insertions/Figure1\")"
   ]
  },
  {
   "cell_type": "code",
   "execution_count": 40,
   "metadata": {
    "vscode": {
     "languageId": "r"
    }
   },
   "outputs": [],
   "source": [
    "##########################################\n",
    "######### Figure 1 left part #############\n",
    "##########################################\n",
    "\n",
    "plot_one_panel <- function(data, geneDfA, kimdata, fill_col, title_str){\n",
    "    panel = ggplot() + \n",
    "    geom_col(data=data, aes(x=Position, y=scaled_count, fill=struct, color=struct)) + \n",
    "    geom_rect(data=geneDfA, xmin=0, xmax=29902, ymin=-0.1, ymax=0,\n",
    "              color = \"black\",\n",
    "              size = 0.2) +\n",
    "    geom_rect(data = geneDfA, aes(xmin = V4, xmax = V5, ymin = -0.1, ymax = 0,\n",
    "            fill = gene),\n",
    "            color = \"black\",\n",
    "            size = 0.2) +\n",
    "    geom_text(data = geneDfA, aes(x=V4+(V5-V4)/2, y = c(0,0,0,0,0,-0.092,0,-0.092,0,0,-0.092)-0.0102, label = gene), \n",
    "        size = 5,\n",
    "        angle = 0, vjust=1.5) +\n",
    "    geom_segment(data=data, aes(x = 0, y = 0, xend = 29902, yend = 0), arrow = arrow(length = unit(0, \"cm\"))) +\n",
    "    scale_fill_manual(values = c(fill_col, \"#4b4b4b\",\"#58bbd5\",\"#6e25f2\",\"#ca51f7\",\n",
    "                                \"#c72d6e\",\"#e86501\",\"#4373e0\",\"#979aff\",\"#eecc00\",\n",
    "                                \"#bccee3\",\"#78c200\")) + \n",
    "    scale_color_manual(values = c(fill_col)) +\n",
    "    annotate(\n",
    "        \"text\", label = \"5\\'\",\n",
    "        x = -500, y = 0, size = 7\n",
    "    )+\n",
    "    annotate(\n",
    "        \"text\", label = \"3\\'\",\n",
    "        x = 30402, y = 0, size = 7\n",
    "    )+\n",
    "    # scale_y_continuous(breaks=c(0, 0.1974,0.3805,0.5404,0.6747,0.7854,0.8761), limits=c(-0.2, 1.45), labels=c(\"0\",\"1\",\"2\",\"3\",\"4\",\"5\",\"6\")) + \n",
    "    scale_y_continuous(breaks=c(0,0.3805,0.6747,0.8761), limits=c(-0.2, 1.45), labels=c(\"0\",\"2\",\"4\",\"6\")) + \n",
    "    theme_light(base_size = 18) + \n",
    "    ylab(\"Count\") +\n",
    "    ggtitle(title_str) +\n",
    "    theme(plot.title = element_text(hjust = 0.5),\n",
    "          axis.title = element_text(size=20),\n",
    "          axis.text = element_text(size=20),\n",
    "          panel.grid.minor.x=element_blank(),\n",
    "          panel.grid.major.x=element_blank(),\n",
    "          panel.grid.minor.y=element_blank(),\n",
    "          panel.border = element_blank(), \n",
    "          axis.line = element_line(size=0.5),\n",
    "          legend.position = \"none\")\n",
    "    return(panel)\n",
    "}\n",
    "\n",
    "Structure_Huston<-read.csv(\"SARS-CoV-2_Full_Length_Secondary_Structure_Map.ct\", header=F, sep =\"\")[-1,]\n",
    "ifLoop <- function(site){\n",
    "    flag = \"stem\"\n",
    "    if(site==0){return(\"non-stem\")}\n",
    "    if(site==29903){return(\"non-stem\")}\n",
    "    cur_pos = Structure_Huston %>% filter(V6==site)\n",
    "    next_pos = Structure_Huston %>% filter(V6==site+1)\n",
    "    if((cur_pos$V5==0) || (next_pos$V5==0)){\n",
    "      flag = \"non-stem\"\n",
    "    }\n",
    "    return(flag)\n",
    "}"
   ]
  },
  {
   "cell_type": "code",
   "execution_count": 14,
   "metadata": {
    "vscode": {
     "languageId": "r"
    }
   },
   "outputs": [],
   "source": [
    "dummy_ct = tibble(Position=1:29903)\n",
    "dummy_ct = dummy_ct %>% rowwise() %>% mutate(ifloop=ifLoop(Position)) %>% as.data.frame()"
   ]
  },
  {
   "cell_type": "code",
   "execution_count": 17,
   "metadata": {
    "vscode": {
     "languageId": "r"
    }
   },
   "outputs": [
    {
     "name": "stderr",
     "output_type": "stream",
     "text": [
      "Warning message:\n",
      "“Expected 7 pieces. Additional pieces discarded in 1 rows [2].”\n"
     ]
    },
    {
     "data": {
      "text/html": [
       "<style>\n",
       ".list-inline {list-style: none; margin:0; padding: 0}\n",
       ".list-inline>li {display: inline-block}\n",
       ".list-inline>li:not(:last-child)::after {content: \"\\00b7\"; padding: 0 .5ex}\n",
       "</style>\n",
       "<ol class=list-inline><li>'ORF1ab'</li><li>'S'</li><li>'3a'</li><li>'E'</li><li>'M'</li><li>'6'</li><li>'7a'</li><li>'7b'</li><li>'8'</li><li>'N'</li><li>'10'</li></ol>\n"
      ],
      "text/latex": [
       "\\begin{enumerate*}\n",
       "\\item 'ORF1ab'\n",
       "\\item 'S'\n",
       "\\item '3a'\n",
       "\\item 'E'\n",
       "\\item 'M'\n",
       "\\item '6'\n",
       "\\item '7a'\n",
       "\\item '7b'\n",
       "\\item '8'\n",
       "\\item 'N'\n",
       "\\item '10'\n",
       "\\end{enumerate*}\n"
      ],
      "text/markdown": [
       "1. 'ORF1ab'\n",
       "2. 'S'\n",
       "3. '3a'\n",
       "4. 'E'\n",
       "5. 'M'\n",
       "6. '6'\n",
       "7. '7a'\n",
       "8. '7b'\n",
       "9. '8'\n",
       "10. 'N'\n",
       "11. '10'\n",
       "\n",
       "\n"
      ],
      "text/plain": [
       " [1] \"ORF1ab\" \"S\"      \"3a\"     \"E\"      \"M\"      \"6\"      \"7a\"     \"7b\"    \n",
       " [9] \"8\"      \"N\"      \"10\"    "
      ]
     },
     "metadata": {},
     "output_type": "display_data"
    }
   ],
   "source": [
    "GFFDf <- read.csv(\"sars2_ref.gff3\", skip = 2, header = F, sep=\"\\t\")\n",
    "geneDf<-subset(GFFDf,GFFDf$V3 == \"gene\")\n",
    "geneDfA<-separate(data = geneDf, col = V9, into = c(\"A1\",\"A2\",\"gene\",\"A4\",\"A5\",\"A6\",\"A7\"), sep = \";\")\n",
    "geneDfA$gene <- gsub('Name=', '', geneDfA$gene)\n",
    "geneDfA$gene <- gsub('ORF', '', geneDfA$gene)\n",
    "geneDfA <- geneDfA %>% mutate(gene=ifelse(gene==\"1ab\", \"ORF1ab\", gene))\n",
    "# geneDfA$gene <- factor(geneDfA$gene, levels=c('ORF1ab','S','3a','E','M','6','7a','7b','8','N','10'))\n",
    "\n",
    "ymin<-c(0,-1)\n",
    "ymax<-c(1,0)\n",
    "geneDfA$ymin<-rep(ymin, 6, length.out = length(geneDfA$V1))\n",
    "geneDfA$ymax<-rep(ymax, 6, length.out = length(geneDfA$V1))\n",
    "\n",
    "geneDfA$ymin2<-rep(-0.1, length.out = length(geneDfA$V1))\n",
    "geneDfA$ymax2<-rep(0, length.out = length(geneDfA$V1))\n",
    "# geneDfA\n",
    "geneDfA$gene"
   ]
  },
  {
   "cell_type": "code",
   "execution_count": 44,
   "metadata": {
    "vscode": {
     "languageId": "r"
    }
   },
   "outputs": [],
   "source": [
    "# read Human chimeric read jnction sites relative to SARS-CoV-2 reference\n",
    "dt = read.table(\"Homo_sapiens_sars2_insert_start.list\", col.names=c(\"Position\", \"pattern\"))\n",
    "# panel 1\n",
    "legend = as.character(expression(\"5'-human-SARS2-3'\"))\n",
    "pattern_ct = dt %>% filter(pattern == \"hs\") %>% group_by(Position) %>% count() %>% mutate(scaled_count=atan(n/5), chimera_pattern=legend)\n",
    "ct = left_join(dummy_ct, pattern_ct, by=\"Position\") %>% mutate_if(is.numeric,coalesce,0) %>% \n",
    "        mutate(chimera_pattern=legend, struct=ifelse(ifloop==\"non-stem\",\"1\",\"0\")) %>% arrange(n)\n",
    "p1 = plot_one_panel(ct, geneDfA, kimdata, c(\"darkgrey\", \"#D63729\"), paste0(legend,\" chimeric reads\"))\n",
    "\n",
    "# panel 2\n",
    "legend = as.character(expression(\"5'-SARS2-human-3'\"))\n",
    "pattern_ct = dt %>% filter(pattern == \"sh\") %>% group_by(Position) %>% count() %>% mutate(scaled_count=atan(n/5), chimera_pattern=legend)\n",
    "ct = left_join(dummy_ct, pattern_ct, by=\"Position\") %>% mutate_if(is.numeric,coalesce,0) %>% \n",
    "        mutate(chimera_pattern=legend, struct=ifelse(ifloop==\"non-stem\",\"1\",\"0\")) %>% arrange(n)\n",
    "p2 = plot_one_panel(ct, geneDfA, kimdata, c(\"darkgrey\", \"#D63729\"), paste0(legend,\" chimeric reads\"))\n",
    " \n",
    "# read Monkey chimeric read jnction sites relative to SARS-CoV-2 reference\n",
    "dt = read.table(\"Chlorocebus_sabaeus_sars2_insert_start.list\", col.names=c(\"Position\", \"pattern\"))\n",
    "# panel 3\n",
    "legend = as.character(expression(\"5'-monkey-SARS2-3'\"))\n",
    "pattern_ct = dt %>% filter(pattern == \"hs\") %>% group_by(Position) %>% count() %>% mutate(scaled_count=atan(n/5), chimera_pattern=legend)\n",
    "ct = left_join(dummy_ct, pattern_ct, by=\"Position\") %>% mutate_if(is.numeric,coalesce,0) %>%\n",
    "    mutate(chimera_pattern=legend, struct=ifelse(ifloop==\"non-stem\",\"1\",\"0\")) %>% arrange(n)\n",
    "p3 = plot_one_panel(ct, geneDfA, kimdata, c(\"darkgrey\", \"#D63729\"), paste0(legend,\" chimeric reads\"))\n",
    "\n",
    "# panel 4\n",
    "legend = as.character(expression(\"5'-SARS2-monkey-3'\"))\n",
    "pattern_ct = dt %>% filter(pattern == \"sh\") %>% group_by(Position) %>% count() %>% mutate(scaled_count=atan(n/5), chimera_pattern=legend)\n",
    "ct = left_join(dummy_ct, pattern_ct, by=\"Position\") %>% mutate_if(is.numeric,coalesce,0) %>% \n",
    "    mutate(chimera_pattern=legend, struct=ifelse(ifloop==\"non-stem\",\"1\",\"0\")) %>% arrange(n)\n",
    "p4 = plot_one_panel(ct, geneDfA, kimdata, c(\"darkgrey\", \"#D63729\"), paste0(legend,\" chimeric reads\"))"
   ]
  },
  {
   "cell_type": "code",
   "execution_count": 42,
   "metadata": {
    "vscode": {
     "languageId": "r"
    }
   },
   "outputs": [
    {
     "data": {
      "image/png": "[encoded data removed]",
      "text/plain": [
       "plot without title"
      ]
     },
     "metadata": {
      "image/png": {
       "height": 420,
       "width": 1200
      }
     },
     "output_type": "display_data"
    }
   ],
   "source": [
    "options(repr.plot.width=20, repr.plot.height=7)\n",
    "p3"
   ]
  },
  {
   "cell_type": "code",
   "execution_count": 45,
   "metadata": {
    "vscode": {
     "languageId": "r"
    }
   },
   "outputs": [
    {
     "data": {
      "text/html": [
       "<strong>png:</strong> 2"
      ],
      "text/latex": [
       "\\textbf{png:} 2"
      ],
      "text/markdown": [
       "**png:** 2"
      ],
      "text/plain": [
       "png \n",
       "  2 "
      ]
     },
     "metadata": {},
     "output_type": "display_data"
    }
   ],
   "source": [
    "pdf(\"Figure_1_left_part.pdf\", family=\"ArialMT\", width=20, height=30)\n",
    "# options(repr.plot.width=20, repr.plot.height=30)\n",
    "p1 / p2 / p3 / p4\n",
    "dev.off()"
   ]
  }
 ],
 "metadata": {
  "kernelspec": {
   "display_name": "R",
   "language": "R",
   "name": "ir"
  },
  "language_info": {
   "codemirror_mode": "r",
   "file_extension": ".r",
   "mimetype": "text/x-r-source",
   "name": "R",
   "pygments_lexer": "r",
   "version": "4.0.2"
  },
  "orig_nbformat": 4
 },
 "nbformat": 4,
 "nbformat_minor": 2
}
